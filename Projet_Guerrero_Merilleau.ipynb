{
 "cells": [
  {
   "cell_type": "code",
   "execution_count": 1,
   "id": "9cf809fc",
   "metadata": {},
   "outputs": [
    {
     "name": "stderr",
     "output_type": "stream",
     "text": [
      "Using TensorFlow backend.\n",
      "C:\\Users\\quent\\anaconda3\\envs\\testenv\\lib\\site-packages\\tensorflow\\python\\framework\\dtypes.py:516: FutureWarning: Passing (type, 1) or '1type' as a synonym of type is deprecated; in a future version of numpy, it will be understood as (type, (1,)) / '(1,)type'.\n",
      "  _np_qint8 = np.dtype([(\"qint8\", np.int8, 1)])\n",
      "C:\\Users\\quent\\anaconda3\\envs\\testenv\\lib\\site-packages\\tensorflow\\python\\framework\\dtypes.py:517: FutureWarning: Passing (type, 1) or '1type' as a synonym of type is deprecated; in a future version of numpy, it will be understood as (type, (1,)) / '(1,)type'.\n",
      "  _np_quint8 = np.dtype([(\"quint8\", np.uint8, 1)])\n",
      "C:\\Users\\quent\\anaconda3\\envs\\testenv\\lib\\site-packages\\tensorflow\\python\\framework\\dtypes.py:518: FutureWarning: Passing (type, 1) or '1type' as a synonym of type is deprecated; in a future version of numpy, it will be understood as (type, (1,)) / '(1,)type'.\n",
      "  _np_qint16 = np.dtype([(\"qint16\", np.int16, 1)])\n",
      "C:\\Users\\quent\\anaconda3\\envs\\testenv\\lib\\site-packages\\tensorflow\\python\\framework\\dtypes.py:519: FutureWarning: Passing (type, 1) or '1type' as a synonym of type is deprecated; in a future version of numpy, it will be understood as (type, (1,)) / '(1,)type'.\n",
      "  _np_quint16 = np.dtype([(\"quint16\", np.uint16, 1)])\n",
      "C:\\Users\\quent\\anaconda3\\envs\\testenv\\lib\\site-packages\\tensorflow\\python\\framework\\dtypes.py:520: FutureWarning: Passing (type, 1) or '1type' as a synonym of type is deprecated; in a future version of numpy, it will be understood as (type, (1,)) / '(1,)type'.\n",
      "  _np_qint32 = np.dtype([(\"qint32\", np.int32, 1)])\n",
      "C:\\Users\\quent\\anaconda3\\envs\\testenv\\lib\\site-packages\\tensorflow\\python\\framework\\dtypes.py:525: FutureWarning: Passing (type, 1) or '1type' as a synonym of type is deprecated; in a future version of numpy, it will be understood as (type, (1,)) / '(1,)type'.\n",
      "  np_resource = np.dtype([(\"resource\", np.ubyte, 1)])\n",
      "C:\\Users\\quent\\anaconda3\\envs\\testenv\\lib\\site-packages\\tensorboard\\compat\\tensorflow_stub\\dtypes.py:541: FutureWarning: Passing (type, 1) or '1type' as a synonym of type is deprecated; in a future version of numpy, it will be understood as (type, (1,)) / '(1,)type'.\n",
      "  _np_qint8 = np.dtype([(\"qint8\", np.int8, 1)])\n",
      "C:\\Users\\quent\\anaconda3\\envs\\testenv\\lib\\site-packages\\tensorboard\\compat\\tensorflow_stub\\dtypes.py:542: FutureWarning: Passing (type, 1) or '1type' as a synonym of type is deprecated; in a future version of numpy, it will be understood as (type, (1,)) / '(1,)type'.\n",
      "  _np_quint8 = np.dtype([(\"quint8\", np.uint8, 1)])\n",
      "C:\\Users\\quent\\anaconda3\\envs\\testenv\\lib\\site-packages\\tensorboard\\compat\\tensorflow_stub\\dtypes.py:543: FutureWarning: Passing (type, 1) or '1type' as a synonym of type is deprecated; in a future version of numpy, it will be understood as (type, (1,)) / '(1,)type'.\n",
      "  _np_qint16 = np.dtype([(\"qint16\", np.int16, 1)])\n",
      "C:\\Users\\quent\\anaconda3\\envs\\testenv\\lib\\site-packages\\tensorboard\\compat\\tensorflow_stub\\dtypes.py:544: FutureWarning: Passing (type, 1) or '1type' as a synonym of type is deprecated; in a future version of numpy, it will be understood as (type, (1,)) / '(1,)type'.\n",
      "  _np_quint16 = np.dtype([(\"quint16\", np.uint16, 1)])\n",
      "C:\\Users\\quent\\anaconda3\\envs\\testenv\\lib\\site-packages\\tensorboard\\compat\\tensorflow_stub\\dtypes.py:545: FutureWarning: Passing (type, 1) or '1type' as a synonym of type is deprecated; in a future version of numpy, it will be understood as (type, (1,)) / '(1,)type'.\n",
      "  _np_qint32 = np.dtype([(\"qint32\", np.int32, 1)])\n",
      "C:\\Users\\quent\\anaconda3\\envs\\testenv\\lib\\site-packages\\tensorboard\\compat\\tensorflow_stub\\dtypes.py:550: FutureWarning: Passing (type, 1) or '1type' as a synonym of type is deprecated; in a future version of numpy, it will be understood as (type, (1,)) / '(1,)type'.\n",
      "  np_resource = np.dtype([(\"resource\", np.ubyte, 1)])\n"
     ]
    }
   ],
   "source": [
    "import pandas as pd\n",
    "import gensim\n",
    "import nltk \n",
    "from keras.preprocessing.text import Tokenizer\n",
    "from keras.preprocessing.sequence import pad_sequences\n",
    "from keras.models import Sequential\n",
    "from keras.layers import Embedding,Bidirectional,LSTM,GRU,Dense\n",
    "from keras.utils import to_categorical\n",
    "import re\n",
    "from sklearn.metrics import accuracy_score, classification_report, confusion_matrix\n",
    "import seaborn as sns\n",
    "\n",
    "dataset = pd.read_csv(\"Emotion_final.csv\")\n",
    "fichier_test = open('test.txt','r')\n",
    "\n",
    "#On transforme le fichier test en dataframe \n",
    "#et on remplace 'joy' par 'happy' pour que ça colle avec le fichier d'entrainement\n",
    "\n",
    "colonne_texte_test = []\n",
    "colonne_emotions_test = []\n",
    "\n",
    "for i in fichier_test:\n",
    "    ligne = i.split(';')\n",
    "    colonne_emotions_test.append(ligne[1].strip())\n",
    "    colonne_texte_test.append(ligne[0])\n",
    "\n",
    "for i in range(len(colonne_emotions_test)):\n",
    "    if colonne_emotions_test[i] == 'joy':\n",
    "        colonne_emotions_test[i] = 'happy'\n",
    "\n",
    "\n",
    "dataset_test = pd.DataFrame({'Text':colonne_texte_test,'Emotion':colonne_emotions_test})\n",
    "\n",
    "dataset = dataset.dropna()\n",
    "dataset_test = dataset_test.dropna()"
   ]
  },
  {
   "cell_type": "code",
   "execution_count": 2,
   "id": "56c6be8c",
   "metadata": {},
   "outputs": [],
   "source": [
    "colonne_emotions = dataset['Emotion']\n",
    "colonne_texte = dataset['Text']\n",
    "colonne_texte2 = pd.DataFrame(dataset['Text'])\n",
    "colonne_emotions_test = dataset_test['Emotion']\n",
    "colonne_texte_test = dataset_test['Text']"
   ]
  },
  {
   "cell_type": "code",
   "execution_count": 3,
   "id": "8754908b",
   "metadata": {},
   "outputs": [
    {
     "name": "stdout",
     "output_type": "stream",
     "text": [
      "35\n"
     ]
    }
   ],
   "source": [
    "ps = nltk.stem.porter.PorterStemmer()\n",
    "corpus = []\n",
    "max_len = 0\n",
    "\n",
    "#Dans cette boucle on va raciniser/stemmer tous les messages.\n",
    "#On calcule aussi la nombre de mots dans le plus long message.\n",
    "\n",
    "for i in colonne_texte:\n",
    "    nouvelle_ligne = i.lower().split()\n",
    "    nouvelle_ligne = [ps.stem(j) for j in nouvelle_ligne if not j in nltk.corpus.stopwords.words('english')]\n",
    "    if len(nouvelle_ligne)>max_len:\n",
    "        max_len = len(nouvelle_ligne)\n",
    "    nouvelle_ligne = ' '.join(nouvelle_ligne)\n",
    "    corpus.append(nouvelle_ligne)\n",
    "    \n",
    "print(max_len)"
   ]
  },
  {
   "cell_type": "code",
   "execution_count": 4,
   "id": "4795827b",
   "metadata": {},
   "outputs": [
    {
     "name": "stdout",
     "output_type": "stream",
     "text": [
      "31\n"
     ]
    }
   ],
   "source": [
    "ps_test = nltk.stem.porter.PorterStemmer()\n",
    "corpus_test = []\n",
    "max_len_test = 0\n",
    "\n",
    "#Dans cette boucle on va raciniser/stemmer tous les messages.\n",
    "#On calcule aussi la nombre de mots dans le plus long message.\n",
    "\n",
    "for i in colonne_texte_test:\n",
    "    nouvelle_ligne = i.lower().split()\n",
    "    nouvelle_ligne = [ps.stem(j) for j in nouvelle_ligne if not j in nltk.corpus.stopwords.words('english')]\n",
    "    if len(nouvelle_ligne)>max_len_test:\n",
    "        max_len_test = len(nouvelle_ligne)\n",
    "    nouvelle_ligne = ' '.join(nouvelle_ligne)\n",
    "    corpus_test.append(nouvelle_ligne)\n",
    "    \n",
    "print(max_len_test)"
   ]
  },
  {
   "cell_type": "code",
   "execution_count": 5,
   "id": "c3cc8b9f",
   "metadata": {},
   "outputs": [],
   "source": [
    "tokenizer = Tokenizer()\n",
    "tokenizer.fit_on_texts(corpus+corpus_test)\n",
    "index_mots = tokenizer.word_index\n",
    "taille_vocabulaire = len(index_mots) + 1"
   ]
  },
  {
   "cell_type": "code",
   "execution_count": 26,
   "id": "b0f6b3b8",
   "metadata": {},
   "outputs": [],
   "source": [
    "#On transforme les echantillons de text en vecteur tokenisés\n",
    "\n",
    "sequence = tokenizer.texts_to_sequences(corpus)\n",
    "sequence_test = tokenizer.texts_to_sequences(corpus_test)"
   ]
  },
  {
   "cell_type": "code",
   "execution_count": 7,
   "id": "ce639657",
   "metadata": {
    "scrolled": true
   },
   "outputs": [],
   "source": [
    "#On met tous les vecteurs à la même taille\n",
    "\n",
    "max_len = max(max_len,max_len_test)\n",
    "\n",
    "pad_corpus = pad_sequences(sequence, maxlen = max_len)\n",
    "pad_corpus_test = pad_sequences(sequence_test, maxlen = max_len)"
   ]
  },
  {
   "cell_type": "code",
   "execution_count": 8,
   "id": "70f73c9f",
   "metadata": {},
   "outputs": [],
   "source": [
    "#On donne une valeur numérique aux émotions qui deviennent donc des classes\n",
    "\n",
    "dictionnaire_emotions = {'sadness':0,'anger':1,'love':2,'surprise':3,'fear':4,'happy':5}\n",
    "\n",
    "emotions = [dictionnaire_emotions[x] for x in dataset['Emotion']]\n",
    "emotions =to_categorical(emotions)\n",
    "emotions_test = [dictionnaire_emotions[x] for x  in dataset_test['Emotion']]\n",
    "emotions_test = to_categorical(emotions_test)"
   ]
  },
  {
   "cell_type": "code",
   "execution_count": 9,
   "id": "64b22a55",
   "metadata": {},
   "outputs": [
    {
     "name": "stdout",
     "output_type": "stream",
     "text": [
      "Model: \"sequential_1\"\n",
      "_________________________________________________________________\n",
      "Layer (type)                 Output Shape              Param #   \n",
      "=================================================================\n",
      "embedding_1 (Embedding)      (None, 35, 131)           1727890   \n",
      "_________________________________________________________________\n",
      "bidirectional_1 (Bidirection (None, 262)               206718    \n",
      "_________________________________________________________________\n",
      "dense_1 (Dense)              (None, 6)                 1578      \n",
      "=================================================================\n",
      "Total params: 1,936,186\n",
      "Trainable params: 1,936,186\n",
      "Non-trainable params: 0\n",
      "_________________________________________________________________\n"
     ]
    }
   ],
   "source": [
    "#On crée le modèle à trois couches\n",
    "\n",
    "taille_output = int(taille_vocabulaire/100)\n",
    "\n",
    "model = Sequential()\n",
    "\n",
    "model.add(Embedding(taille_vocabulaire, taille_output, input_length = max_len))\n",
    "\n",
    "model.add(Bidirectional(GRU(units=taille_output,dropout=0.2,recurrent_dropout=0.2)))\n",
    "\n",
    "model.add(Dense(len(dictionnaire_emotions), activation='softmax'))\n",
    "\n",
    "model.compile(loss='categorical_crossentropy',optimizer='adam',metrics=['accuracy'])\n",
    "\n",
    "model.summary()"
   ]
  },
  {
   "cell_type": "code",
   "execution_count": 10,
   "id": "20ee013f",
   "metadata": {},
   "outputs": [
    {
     "name": "stdout",
     "output_type": "stream",
     "text": [
      "WARNING:tensorflow:From C:\\Users\\quent\\anaconda3\\envs\\testenv\\lib\\site-packages\\keras\\backend\\tensorflow_backend.py:422: The name tf.global_variables is deprecated. Please use tf.compat.v1.global_variables instead.\n",
      "\n",
      "Train on 21459 samples, validate on 2000 samples\n",
      "Epoch 1/8\n",
      "21459/21459 [==============================] - 33s 2ms/step - loss: 1.1708 - accuracy: 0.5697 - val_loss: 0.5869 - val_accuracy: 0.8240\n",
      "Epoch 2/8\n",
      "21459/21459 [==============================] - 31s 1ms/step - loss: 0.3683 - accuracy: 0.8838 - val_loss: 0.3423 - val_accuracy: 0.8960\n",
      "Epoch 3/8\n",
      "21459/21459 [==============================] - 30s 1ms/step - loss: 0.1993 - accuracy: 0.9332 - val_loss: 0.2988 - val_accuracy: 0.9010\n",
      "Epoch 4/8\n",
      "21459/21459 [==============================] - 31s 1ms/step - loss: 0.1499 - accuracy: 0.9490 - val_loss: 0.2267 - val_accuracy: 0.9275\n",
      "Epoch 5/8\n",
      "21459/21459 [==============================] - 33s 2ms/step - loss: 0.1267 - accuracy: 0.9584 - val_loss: 0.2276 - val_accuracy: 0.9200\n",
      "Epoch 6/8\n",
      "21459/21459 [==============================] - 31s 1ms/step - loss: 0.1094 - accuracy: 0.9598 - val_loss: 0.2018 - val_accuracy: 0.9295\n",
      "Epoch 7/8\n",
      "21459/21459 [==============================] - 33s 2ms/step - loss: 0.0797 - accuracy: 0.9708 - val_loss: 0.1840 - val_accuracy: 0.9325\n",
      "Epoch 8/8\n",
      "21459/21459 [==============================] - 32s 1ms/step - loss: 0.0777 - accuracy: 0.9719 - val_loss: 0.2056 - val_accuracy: 0.9280\n"
     ]
    }
   ],
   "source": [
    "#On entraîne le modèle\n",
    "\n",
    "history = model.fit(pad_corpus, emotions, batch_size = 131, epochs = 8, validation_data = (pad_corpus_test, emotions_test))"
   ]
  },
  {
   "cell_type": "code",
   "execution_count": 28,
   "id": "70d42189",
   "metadata": {},
   "outputs": [
    {
     "name": "stdout",
     "output_type": "stream",
     "text": [
      "Votre message : ['im feeling rather rotten so im not very ambitious right now']\n",
      "\n",
      "Votre emotion :  sadness\n"
     ]
    }
   ],
   "source": [
    "#Une fonction qui renvoie le sentiment prédit par le modèle \n",
    "#un exemple de forme de phrase à rentrer est fait dessous\n",
    "\n",
    "import numpy as np\n",
    "classes = list(dictionnaire_emotions.keys())\n",
    "\n",
    "def testEmotion(message):\n",
    "    \n",
    "    new_sequence = tokenizer.texts_to_sequences(message)\n",
    "    new_sequence_padded = pad_sequences(new_sequence, maxlen = max_len)\n",
    "    prediction = model. predict(new_sequence_padded)\n",
    "    print(\"Votre message : \" + str(message) + \"\\n\")\n",
    "    print(\"Votre emotion : \" ,classes[np.argmax(prediction)] )\n",
    "    \n",
    "testEmotion(['im feeling rather rotten so im not very ambitious right now'])"
   ]
  },
  {
   "cell_type": "code",
   "execution_count": 24,
   "id": "98ac0d1f",
   "metadata": {},
   "outputs": [
    {
     "data": {
      "image/png": "[encoded data removed]",
      "text/plain": [
       "<Figure size 432x288 with 1 Axes>"
      ]
     },
     "metadata": {
      "needs_background": "light"
     },
     "output_type": "display_data"
    },
    {
     "name": "stdout",
     "output_type": "stream",
     "text": [
      "AxesSubplot(0.125,0.125;0.62x0.755)\n",
      "\n",
      " Accuracy :0.928\n",
      "              precision    recall  f1-score   support\n",
      "\n",
      "           0       0.96      0.92      0.94       581\n",
      "           1       0.92      0.93      0.93       275\n",
      "           2       0.81      0.89      0.85       159\n",
      "           3       0.78      0.80      0.79        66\n",
      "           4       0.93      0.89      0.91       224\n",
      "           5       0.94      0.96      0.95       695\n",
      "\n",
      "    accuracy                           0.93      2000\n",
      "   macro avg       0.89      0.90      0.90      2000\n",
      "weighted avg       0.93      0.93      0.93      2000\n",
      "\n"
     ]
    },
    {
     "data": {
      "image/png": "[encoded data removed]",
      "text/plain": [
       "<Figure size 432x288 with 2 Axes>"
      ]
     },
     "metadata": {
      "needs_background": "light"
     },
     "output_type": "display_data"
    }
   ],
   "source": [
    "import matplotlib.pyplot as plt\n",
    "\n",
    "#Métriques avec dans l'ordre l'accuracy/nombre d'epochs, une heatmap de la matrice de confusion,\n",
    "#l'accuracy pour 8 epochs, le rapport de classification avec le F1 score\n",
    "#on rapelle que les classes sont {'sadness':0,'anger':1,'love':2,'surprise':3,'fear':4,'happy':5}\n",
    "plt.plot(history.history['accuracy'])\n",
    "plt.title('model accuracy')\n",
    "plt.ylabel('accuracy')\n",
    "plt.xlabel('nombre epochs')\n",
    "plt.show()\n",
    "\n",
    "\n",
    "emotions_tests_desencode = np.argmax(emotions_test, axis = 1)\n",
    "emotions_predictions = model.predict_classes(pad_corpus_test)\n",
    "print(sns.heatmap(confusion_matrix(emotions_tests_desencode, emotions_predictions),annot=True,fmt=\"d\"))\n",
    "print(\"\\n Accuracy :\" + str(accuracy_score(emotions_tests_desencode, emotions_predictions)))\n",
    "print(classification_report(emotions_tests_desencode, emotions_predictions))"
   ]
  },
  {
   "cell_type": "code",
   "execution_count": null,
   "id": "c6ee2948",
   "metadata": {},
   "outputs": [],
   "source": []
  }
 ],
 "metadata": {
  "kernelspec": {
   "display_name": "Python 3 (ipykernel)",
   "language": "python",
   "name": "python3"
  },
  "language_info": {
   "codemirror_mode": {
    "name": "ipython",
    "version": 3
   },
   "file_extension": ".py",
   "mimetype": "text/x-python",
   "name": "python",
   "nbconvert_exporter": "python",
   "pygments_lexer": "ipython3",
   "version": "3.7.11"
  }
 },
 "nbformat": 4,
 "nbformat_minor": 5
}
